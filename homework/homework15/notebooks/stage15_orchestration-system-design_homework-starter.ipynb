{
 "cells": [
  {
   "cell_type": "markdown",
   "id": "16210c1b",
   "metadata": {},
   "source": [
    "# Homework Starter — Stage 15: Orchestration & System Design\n",
    "Complete the sections below. Keep your answers concise and focused on orchestration readiness."
   ]
  },
  {
   "cell_type": "markdown",
   "id": "5e9c5d79",
   "metadata": {},
   "source": [
    "## 1) Project Task Decomposition\n",
    "List 4–8 tasks. Add more rows as needed."
   ]
  },
  {
   "cell_type": "code",
   "execution_count": 2,
   "id": "bca1d999-9a15-46ce-b6ad-460342796d0a",
   "metadata": {},
   "outputs": [],
   "source": [
    "from pathlib import Path\n",
    "import pandas as pd\n",
    "tasks = pd.DataFrame({\n",
    "    'task': [\n",
    "        'ingest', 'validate', 'clean', 'feature_engineering',\n",
    "        'split', 'train_or_score', 'report'\n",
    "    ],\n",
    "    'inputs': [\n",
    "        '/data/raw.ext',\n",
    "        'prices_raw.json',\n",
    "        'prices_valid.json',\n",
    "        'prices_clean.json',\n",
    "        'features.json',\n",
    "        'train.json',\n",
    "        'model.json'\n",
    "    ],\n",
    "    'outputs': [\n",
    "        'prices_raw.json',\n",
    "        'prices_valid.json',\n",
    "        'prices_clean.json',\n",
    "        'features.json',\n",
    "        'train.json',\n",
    "        'model.json',\n",
    "        'report.txt'\n",
    "    ],\n",
    "    'idempotent': [True]*7\n",
    "})\n",
    "tasks['checkpoint'] = tasks['task'].apply(lambda t: f'artifacts/checkpoints/{t}.ok')\n",
    "tasks['log'] = tasks['task'].apply(lambda t: f'artifacts/logs/{t}.log')\n",
    "\n"
   ]
  },
  {
   "cell_type": "markdown",
   "id": "f10d84e6",
   "metadata": {},
   "source": [
    "## 2) Dependencies (DAG)\n",
    "Describe dependencies and paste a small diagram if you have one."
   ]
  },
  {
   "cell_type": "code",
   "execution_count": 3,
   "id": "b5390369",
   "metadata": {},
   "outputs": [
    {
     "data": {
      "text/plain": [
       "{'ingest': [],\n",
       " 'clean': ['ingest'],\n",
       " 'train_or_score': ['clean'],\n",
       " 'report': ['train_or_score']}"
      ]
     },
     "execution_count": 3,
     "metadata": {},
     "output_type": "execute_result"
    }
   ],
   "source": [
    "dag = {\n",
    "    'ingest': [],\n",
    "    'clean': ['ingest'],\n",
    "    'train_or_score': ['clean'],\n",
    "    'report': ['train_or_score']\n",
    "}\n",
    "dag"
   ]
  },
  {
   "cell_type": "code",
   "execution_count": 4,
   "id": "7f546cfb-0ded-4d65-b1a3-91c8759c5a04",
   "metadata": {},
   "outputs": [
    {
     "data": {
      "image/png": "[encoded data removed]",
      "text/plain": [
       "<Figure size 600x400 with 1 Axes>"
      ]
     },
     "metadata": {},
     "output_type": "display_data"
    }
   ],
   "source": [
    "import networkx as nx\n",
    "import matplotlib.pyplot as plt\n",
    "G = nx.DiGraph()\n",
    "for task, deps in dag.items():\n",
    "    for dep in deps:\n",
    "        G.add_edge(dep, task)\n",
    "\n",
    "plt.figure(figsize=(6, 4))\n",
    "pos = nx.spring_layout(G, seed=42)\n",
    "nx.draw(G, pos, with_labels=True, node_color='lightblue', node_size=2000, arrows=True)\n",
    "plt.title(\"Pipeline DAG\")\n",
    "plt.show()"
   ]
  },
  {
   "cell_type": "markdown",
   "id": "369d456e",
   "metadata": {},
   "source": [
    "## 3) Logging & Checkpoints Plan\n",
    "Specify what you will log and where you will checkpoint for each task."
   ]
  },
  {
   "cell_type": "code",
   "execution_count": 5,
   "id": "e6deebce",
   "metadata": {},
   "outputs": [
    {
     "data": {
      "text/html": [
       "<div>\n",
       "<style scoped>\n",
       "    .dataframe tbody tr th:only-of-type {\n",
       "        vertical-align: middle;\n",
       "    }\n",
       "\n",
       "    .dataframe tbody tr th {\n",
       "        vertical-align: top;\n",
       "    }\n",
       "\n",
       "    .dataframe thead th {\n",
       "        text-align: right;\n",
       "    }\n",
       "</style>\n",
       "<table border=\"1\" class=\"dataframe\">\n",
       "  <thead>\n",
       "    <tr style=\"text-align: right;\">\n",
       "      <th></th>\n",
       "      <th>task</th>\n",
       "      <th>log_messages</th>\n",
       "      <th>checkpoint_artifact</th>\n",
       "      <th>log_file</th>\n",
       "      <th>checkpoint_path</th>\n",
       "      <th>hash_check</th>\n",
       "    </tr>\n",
       "  </thead>\n",
       "  <tbody>\n",
       "    <tr>\n",
       "      <th>0</th>\n",
       "      <td>ingest</td>\n",
       "      <td>start/end, rows, source URI</td>\n",
       "      <td>prices_raw.json</td>\n",
       "      <td>artifacts/logs/ingest.log</td>\n",
       "      <td>artifacts/checkpoints/ingest.ok</td>\n",
       "      <td>prices_raw.json.sha256</td>\n",
       "    </tr>\n",
       "    <tr>\n",
       "      <th>1</th>\n",
       "      <td>clean</td>\n",
       "      <td>start/end, rows in/out</td>\n",
       "      <td>prices_clean.json</td>\n",
       "      <td>artifacts/logs/clean.log</td>\n",
       "      <td>artifacts/checkpoints/clean.ok</td>\n",
       "      <td>prices_clean.json.sha256</td>\n",
       "    </tr>\n",
       "    <tr>\n",
       "      <th>2</th>\n",
       "      <td>train_or_score</td>\n",
       "      <td>params, metrics</td>\n",
       "      <td>model.json</td>\n",
       "      <td>artifacts/logs/train_or_score.log</td>\n",
       "      <td>artifacts/checkpoints/train_or_score.ok</td>\n",
       "      <td>model.json.sha256</td>\n",
       "    </tr>\n",
       "    <tr>\n",
       "      <th>3</th>\n",
       "      <td>report</td>\n",
       "      <td>artifact path</td>\n",
       "      <td>report.txt</td>\n",
       "      <td>artifacts/logs/report.log</td>\n",
       "      <td>artifacts/checkpoints/report.ok</td>\n",
       "      <td>report.txt.sha256</td>\n",
       "    </tr>\n",
       "  </tbody>\n",
       "</table>\n",
       "</div>"
      ],
      "text/plain": [
       "             task                 log_messages checkpoint_artifact  \\\n",
       "0          ingest  start/end, rows, source URI     prices_raw.json   \n",
       "1           clean       start/end, rows in/out   prices_clean.json   \n",
       "2  train_or_score              params, metrics          model.json   \n",
       "3          report                artifact path          report.txt   \n",
       "\n",
       "                            log_file                          checkpoint_path  \\\n",
       "0          artifacts/logs/ingest.log          artifacts/checkpoints/ingest.ok   \n",
       "1           artifacts/logs/clean.log           artifacts/checkpoints/clean.ok   \n",
       "2  artifacts/logs/train_or_score.log  artifacts/checkpoints/train_or_score.ok   \n",
       "3          artifacts/logs/report.log          artifacts/checkpoints/report.ok   \n",
       "\n",
       "                 hash_check  \n",
       "0    prices_raw.json.sha256  \n",
       "1  prices_clean.json.sha256  \n",
       "2         model.json.sha256  \n",
       "3         report.txt.sha256  "
      ]
     },
     "execution_count": 5,
     "metadata": {},
     "output_type": "execute_result"
    }
   ],
   "source": [
    "logging_plan = pd.DataFrame({\n",
    "    'task': ['ingest', 'clean', 'train_or_score', 'report'],\n",
    "    'log_messages': [\n",
    "        'start/end, rows, source URI',\n",
    "        'start/end, rows in/out',\n",
    "        'params, metrics',\n",
    "        'artifact path'\n",
    "    ],\n",
    "    'checkpoint_artifact': [\n",
    "        'prices_raw.json',\n",
    "        'prices_clean.json',\n",
    "        'model.json',\n",
    "        'report.txt'\n",
    "    ]\n",
    "})\n",
    "\n",
    "logging_plan['log_file'] = logging_plan['task'].apply(lambda t: f\"artifacts/logs/{t}.log\")\n",
    "logging_plan['checkpoint_path'] = logging_plan['task'].apply(lambda t: f\"artifacts/checkpoints/{t}.ok\")\n",
    "logging_plan['hash_check'] = logging_plan['checkpoint_artifact'].apply(lambda a: f\"{a}.sha256\")\n",
    "\n",
    "logging_plan"
   ]
  },
  {
   "cell_type": "markdown",
   "id": "71e175de",
   "metadata": {},
   "source": [
    "## 4) Right-Sizing Automation\n",
    "Which parts will you automate now? Which stay manual? Why?"
   ]
  },
  {
   "cell_type": "markdown",
   "id": "3b993a5b",
   "metadata": {},
   "source": [
    "Automation will focus on repeatable and high-frequency tasks to ensure reproducibility, and also reduced manual error. Data ingestion, validation, cleaning, and feature engineering are ideal to automate early, as these processes are rule-driven and benefit from checkpoints and logs to ensure consistency. Evaluation should also be automated with fixed seeds and standardized scripts to allow rapid experimentation while maintaining reproducibility. Automated reporting is valuable to generate consistent summaries and visualizations directly from pipeline outputs.\n",
    "EDA should remains manual to preserve flexibility and creativity during investigation. Credential management and other sensitive configuration updates will stay manual for security reasons, while high-level model selection and interpretation of results also require human review and domain expertise. This balance maximizes pipeline reliability and scalability while preserving opportunities for decision-making and exploratory insight."
   ]
  },
  {
   "cell_type": "markdown",
   "id": "62d416a9",
   "metadata": {},
   "source": [
    "## 5) (Stretch) Refactor One Task into a Function + CLI\n",
    "Use the templates below."
   ]
  },
  {
   "cell_type": "code",
   "execution_count": 7,
   "id": "0b7b48e3",
   "metadata": {},
   "outputs": [
    {
     "ename": "SyntaxError",
     "evalue": "unterminated string literal (detected at line 21) (2056391923.py, line 21)",
     "output_type": "error",
     "traceback": [
      "  \u001b[36mCell\u001b[39m\u001b[36m \u001b[39m\u001b[32mIn[7]\u001b[39m\u001b[32m, line 21\u001b[39m\n\u001b[31m    \u001b[39m\u001b[31mif **name** == '**main**'':\u001b[39m\n                             ^\n\u001b[31mSyntaxError\u001b[39m\u001b[31m:\u001b[39m unterminated string literal (detected at line 21)\n"
     ]
    }
   ],
   "source": [
    "import argparse, json, logging, sys\n",
    "from datetime import datetime\n",
    "\n",
    "def my_task(input_path: str, output_path: str) -> None:\n",
    "    '''Example task template: read → transform → write JSON.'''\n",
    "    logging.info('[my_task] start')\n",
    "    # TODO: implement your logic\n",
    "    result = {'run_at': datetime.utcnow().isoformat(), 'note': 'replace with real output'}\n",
    "    Path(output_path).parent.mkdir(parents=True, exist_ok=True)\n",
    "    Path(output_path).write_text(json.dumps(result, indent=2))\n",
    "    logging.info('[my_task] wrote %s', output_path)\n",
    "\n",
    "def main(argv=None):\n",
    "    parser = argparse.ArgumentParser(description='Homework task wrapper')\n",
    "    parser.add_argument('--input', required=True)\n",
    "    parser.add_argument('--output', required=True)\n",
    "    args = parser.parse_args(argv)\n",
    "    logging.basicConfig(level=logging.INFO, handlers=[logging.StreamHandler(sys.stdout)])\n",
    "    my_task(args.input, args.output)\n",
    "\n",
    "if **name** == '**main**'':\n",
    "    # Example simulated CLI in notebook:\n",
    "    main(['--input', 'data/in.ext', '--output', 'data/out.json'])"
   ]
  },
  {
   "cell_type": "markdown",
   "id": "be700a71",
   "metadata": {},
   "source": [
    "### Optional: Simple Retry Wrapper (fill in)\n",
    "Add a small retry with linear backoff to harden a task."
   ]
  },
  {
   "cell_type": "code",
   "execution_count": null,
   "id": "fba502d3",
   "metadata": {},
   "outputs": [],
   "source": [
    "import time\n",
    "def retry(n_tries=3, delay=0.2):\n",
    "    def wrapper(fn, *args, **kwargs):\n",
    "        # TODO: implement try/except loop with sleep backoff\n",
    "        return fn(*args, **kwargs)\n",
    "    return wrapper"
   ]
  }
 ],
 "metadata": {
  "kernelspec": {
   "display_name": "Python 3 (ipykernel)",
   "language": "python",
   "name": "python3"
  },
  "language_info": {
   "codemirror_mode": {
    "name": "ipython",
    "version": 3
   },
   "file_extension": ".py",
   "mimetype": "text/x-python",
   "name": "python",
   "nbconvert_exporter": "python",
   "pygments_lexer": "ipython3",
   "version": "3.13.7"
  }
 },
 "nbformat": 4,
 "nbformat_minor": 5
}
