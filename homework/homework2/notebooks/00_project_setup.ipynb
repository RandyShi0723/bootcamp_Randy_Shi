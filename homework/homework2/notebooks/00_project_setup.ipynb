{
 "cells": [
  {
   "cell_type": "markdown",
   "id": "c7369c55-eb5d-4250-bc65-c080f4f116b4",
   "metadata": {},
   "source": [
    "# Environment & Config Check"
   ]
  },
  {
   "cell_type": "code",
   "execution_count": 1,
   "id": "68a9b794-90de-415b-8dfd-95ff6c267ea5",
   "metadata": {},
   "outputs": [
    {
     "name": "stdout",
     "output_type": "stream",
     "text": [
      ".env loaded (if present)\n"
     ]
    }
   ],
   "source": [
    "from dotenv import load_dotenv\n",
    "load_dotenv()  # Looks for a .env file in current/parent directories\n",
    "print(\".env loaded (if present)\")"
   ]
  },
  {
   "cell_type": "code",
   "execution_count": 2,
   "id": "cf60f604-454d-4f4f-a896-4955ec16c853",
   "metadata": {},
   "outputs": [
    {
     "name": "stdout",
     "output_type": "stream",
     "text": [
      "PROJECT_ROOT: C:\\Users\\Randy Shi\\bootcamp_Randy_Shi\\homework\\homework2\\notebooks\n",
      "DATA_DIR (default): C:\\Users\\Randy Shi\\bootcamp_Randy_Shi\\homework\\homework2\\notebooks\\data\n"
     ]
    }
   ],
   "source": [
    "import sys\n",
    "from pathlib import Path\n",
    "PROJECT_ROOT = Path.cwd().parent\n",
    "if str(PROJECT_ROOT) not in sys.path:\n",
    "    sys.path.append(str(PROJECT_ROOT))\n",
    "\n",
    "from src.config import load_env, get_key, PROJECT_ROOT as PRJ_ROOT, DATA_DIR as DEFAULT_DATA_DIR\n",
    "print(\"PROJECT_ROOT:\", PRJ_ROOT)\n",
    "print(\"DATA_DIR (default):\", DEFAULT_DATA_DIR)"
   ]
  },
  {
   "cell_type": "code",
   "execution_count": 3,
   "id": "bf38df3a-3b84-4ab5-8c92-a506941452d2",
   "metadata": {},
   "outputs": [
    {
     "name": "stdout",
     "output_type": "stream",
     "text": [
      "API_KEY present: True\n",
      "DATA_DIR from env: ./data\n",
      "Ensured data directory exists.\n"
     ]
    }
   ],
   "source": [
    "from pathlib import Path\n",
    "load_env() \n",
    "api_key_present = get_key(\"API_KEY\") is not None\n",
    "data_dir_env = get_key(\"DATA_DIR\", \"./data\")\n",
    "\n",
    "print(\"API_KEY present:\", api_key_present)\n",
    "print(\"DATA_DIR from env:\", data_dir_env)\n",
    "\n",
    "Path(data_dir_env).mkdir(parents=True, exist_ok=True)\n",
    "print(\"Ensured data directory exists.\")"
   ]
  },
  {
   "cell_type": "code",
   "execution_count": 4,
   "id": "055414e5-f1b7-4305-8676-480409d999ec",
   "metadata": {},
   "outputs": [
    {
     "name": "stdout",
     "output_type": "stream",
     "text": [
      "Array squared: [1 4 9]\n"
     ]
    }
   ],
   "source": [
    "import numpy as np\n",
    "arr = np.array([1, 2, 3])\n",
    "print(\"Array squared:\", arr**2)"
   ]
  },
  {
   "cell_type": "code",
   "execution_count": null,
   "id": "020acf5d-e681-466f-a2b3-cad5aa9dfb50",
   "metadata": {},
   "outputs": [],
   "source": []
  }
 ],
 "metadata": {
  "kernelspec": {
   "display_name": "Python 3 (ipykernel)",
   "language": "python",
   "name": "python3"
  },
  "language_info": {
   "codemirror_mode": {
    "name": "ipython",
    "version": 3
   },
   "file_extension": ".py",
   "mimetype": "text/x-python",
   "name": "python",
   "nbconvert_exporter": "python",
   "pygments_lexer": "ipython3",
   "version": "3.10.18"
  }
 },
 "nbformat": 4,
 "nbformat_minor": 5
}
