{
 "cells": [
  {
   "cell_type": "markdown",
   "id": "4b883607",
   "metadata": {},
   "source": [
    "# Homework Starter — Stage 04: Data Acquisition and Ingestion\n",
    "Name: \n",
    "Date: \n",
    "\n",
    "## Objectives\n",
    "- API ingestion with secrets in `.env`\n",
    "- Scrape a permitted public table\n",
    "- Validate and save raw data to `data/raw/`"
   ]
  },
  {
   "cell_type": "code",
   "execution_count": 24,
   "id": "817af0c3",
   "metadata": {},
   "outputs": [
    {
     "name": "stdout",
     "output_type": "stream",
     "text": [
      "Requirement already satisfied: yfinance in c:\\users\\randy shi\\appdata\\local\\programs\\python\\python313\\lib\\site-packages (0.2.65)\n",
      "Requirement already satisfied: pandas>=1.3.0 in c:\\users\\randy shi\\appdata\\local\\programs\\python\\python313\\lib\\site-packages (from yfinance) (2.3.1)\n",
      "Requirement already satisfied: numpy>=1.16.5 in c:\\users\\randy shi\\appdata\\local\\programs\\python\\python313\\lib\\site-packages (from yfinance) (2.3.2)\n",
      "Requirement already satisfied: requests>=2.31 in c:\\users\\randy shi\\appdata\\local\\programs\\python\\python313\\lib\\site-packages (from yfinance) (2.32.4)\n",
      "Requirement already satisfied: multitasking>=0.0.7 in c:\\users\\randy shi\\appdata\\local\\programs\\python\\python313\\lib\\site-packages (from yfinance) (0.0.12)\n",
      "Requirement already satisfied: platformdirs>=2.0.0 in c:\\users\\randy shi\\appdata\\local\\programs\\python\\python313\\lib\\site-packages (from yfinance) (4.3.8)\n",
      "Requirement already satisfied: pytz>=2022.5 in c:\\users\\randy shi\\appdata\\local\\programs\\python\\python313\\lib\\site-packages (from yfinance) (2025.2)\n",
      "Requirement already satisfied: frozendict>=2.3.4 in c:\\users\\randy shi\\appdata\\local\\programs\\python\\python313\\lib\\site-packages (from yfinance) (2.4.6)\n",
      "Requirement already satisfied: peewee>=3.16.2 in c:\\users\\randy shi\\appdata\\local\\programs\\python\\python313\\lib\\site-packages (from yfinance) (3.18.2)\n",
      "Requirement already satisfied: beautifulsoup4>=4.11.1 in c:\\users\\randy shi\\appdata\\local\\programs\\python\\python313\\lib\\site-packages (from yfinance) (4.13.4)\n",
      "Requirement already satisfied: curl_cffi>=0.7 in c:\\users\\randy shi\\appdata\\local\\programs\\python\\python313\\lib\\site-packages (from yfinance) (0.13.0)\n",
      "Requirement already satisfied: protobuf>=3.19.0 in c:\\users\\randy shi\\appdata\\local\\programs\\python\\python313\\lib\\site-packages (from yfinance) (6.32.0)\n",
      "Requirement already satisfied: websockets>=13.0 in c:\\users\\randy shi\\appdata\\local\\programs\\python\\python313\\lib\\site-packages (from yfinance) (15.0.1)\n",
      "Requirement already satisfied: soupsieve>1.2 in c:\\users\\randy shi\\appdata\\local\\programs\\python\\python313\\lib\\site-packages (from beautifulsoup4>=4.11.1->yfinance) (2.7)\n",
      "Requirement already satisfied: typing-extensions>=4.0.0 in c:\\users\\randy shi\\appdata\\local\\programs\\python\\python313\\lib\\site-packages (from beautifulsoup4>=4.11.1->yfinance) (4.14.1)\n",
      "Requirement already satisfied: cffi>=1.12.0 in c:\\users\\randy shi\\appdata\\local\\programs\\python\\python313\\lib\\site-packages (from curl_cffi>=0.7->yfinance) (1.17.1)\n",
      "Requirement already satisfied: certifi>=2024.2.2 in c:\\users\\randy shi\\appdata\\local\\programs\\python\\python313\\lib\\site-packages (from curl_cffi>=0.7->yfinance) (2025.8.3)\n",
      "Requirement already satisfied: pycparser in c:\\users\\randy shi\\appdata\\local\\programs\\python\\python313\\lib\\site-packages (from cffi>=1.12.0->curl_cffi>=0.7->yfinance) (2.22)\n",
      "Requirement already satisfied: python-dateutil>=2.8.2 in c:\\users\\randy shi\\appdata\\local\\programs\\python\\python313\\lib\\site-packages (from pandas>=1.3.0->yfinance) (2.9.0.post0)\n",
      "Requirement already satisfied: tzdata>=2022.7 in c:\\users\\randy shi\\appdata\\local\\programs\\python\\python313\\lib\\site-packages (from pandas>=1.3.0->yfinance) (2025.2)\n",
      "Requirement already satisfied: six>=1.5 in c:\\users\\randy shi\\appdata\\local\\programs\\python\\python313\\lib\\site-packages (from python-dateutil>=2.8.2->pandas>=1.3.0->yfinance) (1.17.0)\n",
      "Requirement already satisfied: charset_normalizer<4,>=2 in c:\\users\\randy shi\\appdata\\local\\programs\\python\\python313\\lib\\site-packages (from requests>=2.31->yfinance) (3.4.3)\n",
      "Requirement already satisfied: idna<4,>=2.5 in c:\\users\\randy shi\\appdata\\local\\programs\\python\\python313\\lib\\site-packages (from requests>=2.31->yfinance) (3.10)\n",
      "Requirement already satisfied: urllib3<3,>=1.21.1 in c:\\users\\randy shi\\appdata\\local\\programs\\python\\python313\\lib\\site-packages (from requests>=2.31->yfinance) (2.5.0)\n",
      "Note: you may need to restart the kernel to use updated packages.\n",
      "ALPHAVANTAGE_API_KEY loaded? True\n"
     ]
    }
   ],
   "source": [
    "import os, pathlib, datetime as dt\n",
    "import requests\n",
    "import pandas as pd\n",
    "from bs4 import BeautifulSoup\n",
    "from dotenv import load_dotenv\n",
    "%pip install yfinance\n",
    "\n",
    "RAW = pathlib.Path('data/raw'); RAW.mkdir(parents=True, exist_ok=True)\n",
    "load_dotenv(); print('ALPHAVANTAGE_API_KEY loaded?', bool(os.getenv('ALPHAVANTAGE_API_KEY')))"
   ]
  },
  {
   "cell_type": "markdown",
   "id": "a3aa009f",
   "metadata": {},
   "source": [
    "## Helpers (use or modify)"
   ]
  },
  {
   "cell_type": "code",
   "execution_count": 25,
   "id": "d92fbd62",
   "metadata": {},
   "outputs": [],
   "source": [
    "def ts():\n",
    "    return dt.datetime.now().strftime('%Y%m%d-%H%M%S')\n",
    "\n",
    "def save_csv(df: pd.DataFrame, prefix: str, **meta):\n",
    "    mid = \"_\".join([f\"{k}-{v}\" for k, v in meta.items()]) if meta else \"\"\n",
    "    fname = f\"{prefix}_{mid}_{ts()}.csv\" if mid else f\"{prefix}_{ts()}.csv\"\n",
    "    path = RAW / fname\n",
    "    \n",
    "    df.to_csv(path, index=False)\n",
    "    print(\"Saved\", path)\n",
    "    return path\n",
    "\n",
    "def validate(df: pd.DataFrame, required):\n",
    "    missing = [c for c in required if c not in df.columns]\n",
    "    result = {\n",
    "        \"missing\": missing,\n",
    "        \"shape\": df.shape,\n",
    "        \"na_total\": int(df.isna().sum().sum())\n",
    "    }\n",
    "    print(\"Validation:\", result)\n",
    "    return result"
   ]
  },
  {
   "cell_type": "markdown",
   "id": "6ac1ceb1",
   "metadata": {},
   "source": [
    "## Part 1 — API Pull (Required)\n",
    "Choose an endpoint (e.g., Alpha Vantage or use `yfinance` fallback)."
   ]
  },
  {
   "cell_type": "code",
   "execution_count": 27,
   "id": "48268e2b",
   "metadata": {},
   "outputs": [
    {
     "name": "stdout",
     "output_type": "stream",
     "text": [
      "alpha_vantage_fallback: Thank you for using Alpha Vantage! This is a premium endpoint. You may subscribe to any of the premium plans at https://www.alphavantage.co/premium/ to instantly unlock all premium endpoints\n",
      "Validation: {'missing': [], 'shape': (63, 2), 'na_total': 0}\n",
      "Saved data\\raw\\api_source-yfinance_symbol-AAPL_20250817-225207.csv\n"
     ]
    }
   ],
   "source": [
    "SYMBOL = \"AAPL\"\n",
    "\n",
    "key_env = os.getenv(\"ALPHAVANTAGE_API_KEY\")\n",
    "df_api = None\n",
    "used_alpha = False\n",
    "\n",
    "if key_env:\n",
    "    try:\n",
    "        r = requests.get(\n",
    "            \"https://www.alphavantage.co/query\",\n",
    "            params={\"function\":\"TIME_SERIES_DAILY_ADJUSTED\",\"symbol\":SYMBOL,\"outputsize\":\"compact\",\"apikey\":key_env},\n",
    "            timeout=30\n",
    "        )\n",
    "        r.raise_for_status()\n",
    "        js = r.json()\n",
    "        if any(k in js for k in (\"Error Message\",\"Note\",\"Information\",\"message\")):\n",
    "            raise RuntimeError(js.get(\"Error Message\") or js.get(\"Note\") or js.get(\"Information\") or js.get(\"message\"))\n",
    "        ts_key = next(k for k in js.keys() if \"Time Series\" in k)\n",
    "        tmp = pd.DataFrame(js[ts_key]).T.reset_index().rename(columns={\"index\":\"date\"})\n",
    "        close_col = \"5. adjusted close\" if \"5. adjusted close\" in tmp.columns else \"4. close\"\n",
    "        df_api = tmp[[\"date\", close_col]].rename(columns={close_col:\"adj_close\"})\n",
    "        used_alpha = True\n",
    "    except Exception as e:\n",
    "        print(\"alpha_vantage_fallback:\", e)\n",
    "\n",
    "if df_api is None:\n",
    "    import yfinance as yf\n",
    "    df_yf = yf.download(SYMBOL, period=\"3mo\", interval=\"1d\", progress=False, auto_adjust=False).reset_index()\n",
    "    if isinstance(df_yf.columns, pd.MultiIndex):\n",
    "        df_yf.columns = [\"_\".join([str(p) for p in col if p != \"\"]).strip(\"_\") for col in df_yf.columns.to_list()]\n",
    "    cand = [c for c in df_yf.columns if str(c).lower() in (\"adj close\",\"close\",\"adj_close\",\"close_\"+SYMBOL.lower(),\"adj close_\"+SYMBOL.lower())]\n",
    "    if not cand:\n",
    "        cand = [c for c in df_yf.columns if \"adj\" in str(c).lower() and \"close\" in str(c).lower()] or [c for c in df_yf.columns if str(c).lower()==\"close\"]\n",
    "    close_col = cand[0]\n",
    "    date_col = \"Date\" if \"Date\" in df_yf.columns else [c for c in df_yf.columns if str(c).lower()==\"date\"][0]\n",
    "    df_api = df_yf[[date_col, close_col]].rename(columns={date_col:\"date\", close_col:\"adj_close\"})\n",
    "\n",
    "s = pd.Series(df_api[\"adj_close\"]).astype(\"string\")\n",
    "df_api[\"adj_close\"] = pd.to_numeric(s, errors=\"coerce\")\n",
    "df_api[\"date\"] = pd.to_datetime(df_api[\"date\"], errors=\"coerce\")\n",
    "df_api = df_api.dropna(subset=[\"date\",\"adj_close\"]).sort_values(\"date\")\n",
    "\n",
    "v_api = validate(df_api, [\"date\",\"adj_close\"]); v_api\n",
    "_ = save_csv(df_api, prefix=\"api\", source=\"alpha\" if used_alpha else \"yfinance\", symbol=SYMBOL)"
   ]
  },
  {
   "cell_type": "code",
   "execution_count": 28,
   "id": "7b332ba8",
   "metadata": {},
   "outputs": [
    {
     "name": "stdout",
     "output_type": "stream",
     "text": [
      "Saved data\\raw\\api_source-alpha_symbol-AAPL_20250817-225209.csv\n"
     ]
    }
   ],
   "source": [
    "_ = save_csv(df_api.sort_values('date'), prefix='api', source='alpha' if USE_ALPHA else 'yfinance', symbol=SYMBOL)"
   ]
  },
  {
   "cell_type": "markdown",
   "id": "2daab00f",
   "metadata": {},
   "source": [
    "## Part 2 — Scrape a Public Table (Required)\n",
    "Replace `SCRAPE_URL` with a permitted page containing a simple table."
   ]
  },
  {
   "cell_type": "code",
   "execution_count": 29,
   "id": "4a8b2167",
   "metadata": {},
   "outputs": [
    {
     "name": "stdout",
     "output_type": "stream",
     "text": [
      "Validation: {'missing': [], 'shape': (880, 8), 'na_total': 758}\n"
     ]
    },
    {
     "data": {
      "text/plain": [
       "{'missing': [], 'shape': (880, 8), 'na_total': 758}"
      ]
     },
     "execution_count": 29,
     "metadata": {},
     "output_type": "execute_result"
    }
   ],
   "source": [
    "SCRAPE_URL = \"https://en.wikipedia.org/wiki/List_of_S%26P_500_companies\"\n",
    "headers = {\"User-Agent\": \"AFE-Homework/1.0\"}\n",
    "try:\n",
    "    resp = requests.get(SCRAPE_URL, headers=headers, timeout=30); resp.raise_for_status()\n",
    "    soup = BeautifulSoup(resp.text, 'html.parser')\n",
    "    rows = [[c.get_text(strip=True) for c in tr.find_all(['th','td'])] for tr in soup.find_all('tr')]\n",
    "    header, *data = [r for r in rows if r]\n",
    "    df_scrape = pd.DataFrame(data, columns=header)\n",
    "except Exception as e:\n",
    "    print('Scrape failed, using inline demo table:', e)\n",
    "    html = '<table><tr><th>Ticker</th><th>Price</th></tr><tr><td>AAA</td><td>101.2</td></tr></table>'\n",
    "    soup = BeautifulSoup(html, 'html.parser')\n",
    "    rows = [[c.get_text(strip=True) for c in tr.find_all(['th','td'])] for tr in soup.find_all('tr')]\n",
    "    header, *data = [r for r in rows if r]\n",
    "    df_scrape = pd.DataFrame(data, columns=header)\n",
    "\n",
    "if 'Price' in df_scrape.columns:\n",
    "    df_scrape['Price'] = pd.to_numeric(df_scrape['Price'], errors='coerce')\n",
    "v_scrape = validate(df_scrape, list(df_scrape.columns)); v_scrape"
   ]
  },
  {
   "cell_type": "code",
   "execution_count": 30,
   "id": "f74a757c",
   "metadata": {},
   "outputs": [
    {
     "name": "stdout",
     "output_type": "stream",
     "text": [
      "Saved data\\raw\\scrape_site-example_table-markets_20250817-225257.csv\n"
     ]
    }
   ],
   "source": [
    "_ = save_csv(df_scrape, prefix='scrape', site='example', table='markets')"
   ]
  },
  {
   "cell_type": "markdown",
   "id": "115e40f0",
   "metadata": {},
   "source": [
    "## Documentation\n",
    "- API Source: (URL/endpoint/params)\n",
    "- Scrape Source: (URL/table description)\n",
    "- Assumptions & risks: (rate limits, selector fragility, schema changes)\n",
    "- Confirm `.env` is not committed."
   ]
  }
 ],
 "metadata": {
  "kernelspec": {
   "display_name": "Python 3 (ipykernel)",
   "language": "python",
   "name": "python3"
  },
  "language_info": {
   "codemirror_mode": {
    "name": "ipython",
    "version": 3
   },
   "file_extension": ".py",
   "mimetype": "text/x-python",
   "name": "python",
   "nbconvert_exporter": "python",
   "pygments_lexer": "ipython3",
   "version": "3.13.7"
  }
 },
 "nbformat": 4,
 "nbformat_minor": 5
}
