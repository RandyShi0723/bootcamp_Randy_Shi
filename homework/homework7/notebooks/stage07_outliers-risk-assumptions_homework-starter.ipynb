{
 "cells": [
  {
   "cell_type": "markdown",
   "id": "3848df1c",
   "metadata": {},
   "source": [
    "# Setup: Generate Sample Dataset\n",
    "\n",
    "This cell creates the required folder structure (`data/raw/` and `data/processed/`) relative to the notebook, and generates the sample CSV dataset with missing values. \n",
    "This ensures the dataset is ready for cleaning functions and saves it to `data/raw/outliers_homework.csv`."
   ]
  },
  {
   "cell_type": "code",
   "execution_count": 1,
   "id": "6c50b376",
   "metadata": {},
   "outputs": [
    {
     "name": "stdout",
     "output_type": "stream",
     "text": [
      "File already exists at ../data/raw\\outliers_homework.csv. Skipping CSV creation to avoid overwrite.\n"
     ]
    }
   ],
   "source": [
    "import os\n",
    "import numpy as np\n",
    "import pandas as pd\n",
    "\n",
    "# Define folder paths relative to this notebook\n",
    "raw_dir = '../data/raw'\n",
    "processed_dir = '../data/processed'\n",
    "\n",
    "# Create folders if they don't exist\n",
    "os.makedirs(raw_dir, exist_ok=True)\n",
    "os.makedirs(processed_dir, exist_ok=True)\n",
    "\n",
    "# Generate business day dates\n",
    "dates = pd.date_range(start=\"2022-01-03\", end=\"2022-06-10\", freq=\"B\")\n",
    "\n",
    "# Fixed random seed for reproducibility\n",
    "np.random.seed(17)\n",
    "\n",
    "# Column 1: daily_return ~ N(0, 0.01)\n",
    "returns = np.random.normal(0, 0.01, size=len(dates))\n",
    "mask_pre_may = dates < \"2022-05-01\"\n",
    "returns[mask_pre_may] -= 0.0015  \n",
    "\n",
    "# Inject \"shock\" values\n",
    "shock_values = {\n",
    "    \"2022-05-02\": 0.1748425237194541,\n",
    "    \"2022-05-03\": -0.16825801732486943,\n",
    "    \"2022-05-06\": -0.19667220757153227,\n",
    "    \"2022-05-09\": 0.21240223590614747,\n",
    "    \"2022-05-12\": -0.178729287231294\n",
    "}\n",
    "for d, v in shock_values.items():\n",
    "    idx = np.where(dates == pd.to_datetime(d))[0][0]\n",
    "    returns[idx] = v\n",
    "\n",
    "# Column 2: daily_return_2, correlated with daily_return + small noise\n",
    "daily_return_2 = returns * 0.6 + np.random.normal(0, 0.005, size=len(dates))\n",
    "\n",
    "# Create DataFrame with two numeric columns\n",
    "df = pd.DataFrame({\n",
    "    \"date\": dates,\n",
    "    \"daily_return\": returns,\n",
    "    \"daily_return_2\": daily_return_2\n",
    "})\n",
    "\n",
    "# Save to CSV in raw data folder\n",
    "csv_path = os.path.join(raw_dir, 'outliers_homework.csv')\n",
    "if not os.path.exists(csv_path):\n",
    "    df.to_csv(csv_path, index=False)\n",
    "    print(f'Synthetic dataset with two columns created and saved to {csv_path}')\n",
    "else:\n",
    "    print(f'File already exists at {csv_path}. Skipping CSV creation to avoid overwrite.')"
   ]
  },
  {
   "cell_type": "markdown",
   "id": "0122b116",
   "metadata": {},
   "source": [
    "# Stage 7 Homework — Outliers + Risk Assumptions\n",
    "In this assignment you will implement outlier detection/handling and run a simple sensitivity analysis.\n",
    "\n",
    "**Chain:** In the lecture, we learned detection (IQR, Z-score), options for handling (remove/winsorize), and sensitivity testing. Now, you will adapt those methods to a provided dataset and document the risks and assumptions behind your choices."
   ]
  },
  {
   "cell_type": "code",
   "execution_count": 2,
   "id": "ac82aa11",
   "metadata": {},
   "outputs": [],
   "source": [
    "# Setup\n",
    "import numpy as np\n",
    "import pandas as pd\n",
    "import matplotlib.pyplot as plt\n",
    "from pathlib import Path\n",
    "from sklearn.linear_model import LinearRegression\n",
    "from sklearn.metrics import mean_absolute_error, r2_score\n",
    "np.random.seed(17)"
   ]
  },
  {
   "cell_type": "markdown",
   "id": "1c1ee104",
   "metadata": {},
   "source": [
    "## Load Data (provided or synthetic fallback)"
   ]
  },
  {
   "cell_type": "code",
   "execution_count": 3,
   "id": "2551e5c8",
   "metadata": {},
   "outputs": [
    {
     "data": {
      "text/html": [
       "<div>\n",
       "<style scoped>\n",
       "    .dataframe tbody tr th:only-of-type {\n",
       "        vertical-align: middle;\n",
       "    }\n",
       "\n",
       "    .dataframe tbody tr th {\n",
       "        vertical-align: top;\n",
       "    }\n",
       "\n",
       "    .dataframe thead th {\n",
       "        text-align: right;\n",
       "    }\n",
       "</style>\n",
       "<table border=\"1\" class=\"dataframe\">\n",
       "  <thead>\n",
       "    <tr style=\"text-align: right;\">\n",
       "      <th></th>\n",
       "      <th>x</th>\n",
       "      <th>y</th>\n",
       "    </tr>\n",
       "  </thead>\n",
       "  <tbody>\n",
       "    <tr>\n",
       "      <th>0</th>\n",
       "      <td>0.000000</td>\n",
       "      <td>1.331519</td>\n",
       "    </tr>\n",
       "    <tr>\n",
       "      <th>1</th>\n",
       "      <td>0.050251</td>\n",
       "      <td>-1.115001</td>\n",
       "    </tr>\n",
       "    <tr>\n",
       "      <th>2</th>\n",
       "      <td>0.100503</td>\n",
       "      <td>1.969787</td>\n",
       "    </tr>\n",
       "    <tr>\n",
       "      <th>3</th>\n",
       "      <td>0.150754</td>\n",
       "      <td>2.706032</td>\n",
       "    </tr>\n",
       "    <tr>\n",
       "      <th>4</th>\n",
       "      <td>0.201005</td>\n",
       "      <td>2.686840</td>\n",
       "    </tr>\n",
       "  </tbody>\n",
       "</table>\n",
       "</div>"
      ],
      "text/plain": [
       "          x         y\n",
       "0  0.000000  1.331519\n",
       "1  0.050251 -1.115001\n",
       "2  0.100503  1.969787\n",
       "3  0.150754  2.706032\n",
       "4  0.201005  2.686840"
      ]
     },
     "execution_count": 3,
     "metadata": {},
     "output_type": "execute_result"
    }
   ],
   "source": [
    "data_path = Path('data/raw/outliers_homework.csv')\n",
    "if data_path.exists():\n",
    "    df = pd.read_csv(data_path)\n",
    "else:\n",
    "    # Synthetic fallback: linear trend with noise and a few extremes\n",
    "    x = np.linspace(0, 10, 200)\n",
    "    y = 2.2 * x + 1 + np.random.normal(0, 1.2, size=x.size)\n",
    "    y[10] += 15; y[120] -= 13; y[160] += 18\n",
    "    df = pd.DataFrame({'x': x, 'y': y})\n",
    "df.head()"
   ]
  },
  {
   "cell_type": "markdown",
   "id": "2a3f9ad9",
   "metadata": {},
   "source": [
    "## TODO: Implement Outlier Functions (required)"
   ]
  },
  {
   "cell_type": "code",
   "execution_count": 4,
   "id": "e0d29141",
   "metadata": {
    "tags": [
     "grade_required"
    ]
   },
   "outputs": [],
   "source": [
    "def detect_outliers_iqr(series: pd.Series, k: float = 1.5) -> pd.Series:\n",
    "    \"\"\"Return boolean mask for IQR-based outliers.\n",
    "    Assumptions: distribution reasonably summarized by quartiles; k controls strictness.\n",
    "    \"\"\"\n",
    "    q1 = series.quantile(0.25, interpolation=\"linear\")\n",
    "    q3 = series.quantile(0.75, interpolation=\"linear\")\n",
    "    iqr = q3 - q1\n",
    "    lower = q1 - k * iqr\n",
    "    upper = q3 + k * iqr\n",
    "    mask = ((series < lower) | (series > upper)).astype(bool)\n",
    "    mask.name = f\"{series.name}_is_outlier_iqr\" if series.name else \"is_outlier_iqr\"\n",
    "    return mask\n",
    "\n",
    "def detect_outliers_zscore(series: pd.Series, threshold: float = 3.0) -> pd.Series:\n",
    "    \"\"\"Return boolean mask for Z-score outliers where |z| > threshold.\n",
    "    Assumptions: roughly normal distribution; sensitive to heavy tails.\n",
    "    \"\"\"\n",
    "    mu = series.mean(skipna=True)\n",
    "    sigma = series.std(ddof=0, skipna=True)\n",
    "    denom = sigma if (pd.notna(sigma) and sigma != 0) else 1.0\n",
    "    z = (series - mu) / denom\n",
    "    mask = (z.abs() > threshold).astype(bool)\n",
    "    mask.name = f\"{series.name}_is_outlier_z\" if series.name else \"is_outlier_z\"\n",
    "    return mask"
   ]
  },
  {
   "cell_type": "markdown",
   "id": "c543d787",
   "metadata": {},
   "source": [
    "*(Stretch)* Implement winsorizing (optional)."
   ]
  },
  {
   "cell_type": "code",
   "execution_count": 5,
   "id": "b9d214eb",
   "metadata": {
    "tags": [
     "stretch"
    ]
   },
   "outputs": [],
   "source": [
    "def winsorize_series(series: pd.Series, lower: float = 0.05, upper: float = 0.95) -> pd.Series:\n",
    "    lo = series.quantile(lower, interpolation=\"linear\")\n",
    "    hi = series.quantile(upper, interpolation=\"linear\")\n",
    "    out = series.clip(lower=lo, upper=hi)\n",
    "    out.name = f\"{series.name}_winsorized\" if series.name else \"winsorized\"\n",
    "    return out"
   ]
  },
  {
   "cell_type": "markdown",
   "id": "da7c23b5",
   "metadata": {},
   "source": [
    "## Apply Detection and Create Flags (choose a numeric column)"
   ]
  },
  {
   "cell_type": "code",
   "execution_count": 6,
   "id": "7a64d4ee-bca2-4874-8ad5-40c9b45d905e",
   "metadata": {},
   "outputs": [
    {
     "name": "stdout",
     "output_type": "stream",
     "text": [
      "Analyzing numeric column: y\n",
      "IQR outliers: 0.50%  (1/200)\n",
      "Z-score outliers: 0.50%  (1/200)\n",
      "Flagged by BOTH: 0.50%  (1/200)\n"
     ]
    }
   ],
   "source": [
    "numeric_cols = df.select_dtypes(include=[\"number\"]).columns.tolist()\n",
    "target_col = \"y\" if \"y\" in df.columns and pd.api.types.is_numeric_dtype(df[\"y\"]) else numeric_cols[0]\n",
    "print(f\"Analyzing numeric column: {target_col}\")\n",
    "\n",
    "df[\"outlier_iqr\"] = detect_outliers_iqr(df[target_col])\n",
    "df[\"outlier_z\"]   = detect_outliers_zscore(df[target_col], threshold=3.0)\n",
    "\n",
    "n = len(df)\n",
    "iqr_rate = df[\"outlier_iqr\"].mean()\n",
    "z_rate   = df[\"outlier_z\"].mean()\n",
    "both_rate = (df[\"outlier_iqr\"] & df[\"outlier_z\"]).mean()\n",
    "print(f\"IQR outliers: {iqr_rate:.2%}  ({int(iqr_rate*n)}/{n})\")\n",
    "print(f\"Z-score outliers: {z_rate:.2%}  ({int(z_rate*n)}/{n})\")\n",
    "print(f\"Flagged by BOTH: {both_rate:.2%}  ({int(both_rate*n)}/{n})\")\n",
    "\n",
    "q1 = df[target_col].quantile(0.25, interpolation=\"linear\")\n",
    "q3 = df[target_col].quantile(0.75, interpolation=\"linear\")\n",
    "iqr = q3 - q1\n",
    "lo_iqr = q1 - 1.5 * iqr\n",
    "hi_iqr = q3 + 1.5 * iqr\n",
    "mu = df[target_col].mean(skipna=True)\n",
    "sigma = df[target_col].std(ddof=0, skipna=True)\n",
    "thr = 3.0"
   ]
  },
  {
   "cell_type": "markdown",
   "id": "7f8b7f70",
   "metadata": {},
   "source": [
    "### Visual Checks (boxplot / histogram)"
   ]
  },
  {
   "cell_type": "code",
   "execution_count": 7,
   "id": "d9d7e8bd",
   "metadata": {},
   "outputs": [
    {
     "name": "stderr",
     "output_type": "stream",
     "text": [
      "C:\\Users\\Randy Shi\\AppData\\Local\\Temp\\ipykernel_19016\\1708281107.py:2: MatplotlibDeprecationWarning: The 'labels' parameter of boxplot() has been renamed 'tick_labels' since Matplotlib 3.9; support for the old name will be dropped in 3.11.\n",
      "  plt.boxplot(df[target_col].dropna(), vert=True, labels=[target_col])\n"
     ]
    },
    {
     "data": {
      "image/png": "[encoded data removed]",
      "text/plain": [
       "<Figure size 640x480 with 1 Axes>"
      ]
     },
     "metadata": {},
     "output_type": "display_data"
    },
    {
     "data": {
      "image/png": "[encoded data removed]",
      "text/plain": [
       "<Figure size 640x480 with 1 Axes>"
      ]
     },
     "metadata": {},
     "output_type": "display_data"
    }
   ],
   "source": [
    "plt.figure()\n",
    "plt.boxplot(df[target_col].dropna(), vert=True, labels=[target_col])\n",
    "plt.title(f\"Boxplot: {target_col}\")\n",
    "plt.axhline(lo_iqr, linestyle=\"--\")\n",
    "plt.axhline(hi_iqr, linestyle=\"--\")\n",
    "plt.show()\n",
    "\n",
    "plt.figure()\n",
    "plt.hist(df[target_col].dropna(), bins=30)\n",
    "plt.title(f\"Histogram: {target_col}\")\n",
    "plt.axvline(lo_iqr, linestyle=\"--\")\n",
    "plt.axvline(hi_iqr, linestyle=\"--\")\n",
    "plt.show()"
   ]
  },
  {
   "cell_type": "markdown",
   "id": "dfcebcd2",
   "metadata": {},
   "source": [
    "## Sensitivity Analysis\n",
    "Pick one: summary stats or simple linear regression comparing **all vs. filtered** (and optional winsorized)."
   ]
  },
  {
   "cell_type": "code",
   "execution_count": 8,
   "id": "af401d24",
   "metadata": {
    "tags": [
     "grade_required"
    ]
   },
   "outputs": [
    {
     "data": {
      "text/html": [
       "<div>\n",
       "<style scoped>\n",
       "    .dataframe tbody tr th:only-of-type {\n",
       "        vertical-align: middle;\n",
       "    }\n",
       "\n",
       "    .dataframe tbody tr th {\n",
       "        vertical-align: top;\n",
       "    }\n",
       "\n",
       "    .dataframe thead th {\n",
       "        text-align: right;\n",
       "    }\n",
       "</style>\n",
       "<table border=\"1\" class=\"dataframe\">\n",
       "  <thead>\n",
       "    <tr style=\"text-align: right;\">\n",
       "      <th></th>\n",
       "      <th>all</th>\n",
       "      <th>filtered_iqr</th>\n",
       "      <th>winsorized</th>\n",
       "    </tr>\n",
       "  </thead>\n",
       "  <tbody>\n",
       "    <tr>\n",
       "      <th>mean</th>\n",
       "      <td>12.171936</td>\n",
       "      <td>12.047851</td>\n",
       "      <td>12.119643</td>\n",
       "    </tr>\n",
       "    <tr>\n",
       "      <th>median</th>\n",
       "      <td>12.349663</td>\n",
       "      <td>12.285113</td>\n",
       "      <td>12.349663</td>\n",
       "    </tr>\n",
       "    <tr>\n",
       "      <th>std</th>\n",
       "      <td>6.761378</td>\n",
       "      <td>6.546157</td>\n",
       "      <td>6.386781</td>\n",
       "    </tr>\n",
       "  </tbody>\n",
       "</table>\n",
       "</div>"
      ],
      "text/plain": [
       "              all  filtered_iqr  winsorized\n",
       "mean    12.171936     12.047851   12.119643\n",
       "median  12.349663     12.285113   12.349663\n",
       "std      6.761378      6.546157    6.386781"
      ]
     },
     "execution_count": 8,
     "metadata": {},
     "output_type": "execute_result"
    }
   ],
   "source": [
    "# Option A: Summary stats\n",
    "summ_all = df[target_col].describe()[['mean', '50%', 'std']].rename({'50%': 'median'})\n",
    "summ_filtered = df.loc[~df['outlier_iqr'], target_col].describe()[['mean', '50%', 'std']].rename({'50%': 'median'})\n",
    "summ_w = None\n",
    "if 'winsorize_series' in globals():\n",
    "    w = winsorize_series(df[target_col])\n",
    "    summ_w = w.describe()[['mean', '50%', 'std']].rename({'50%': 'median'})\n",
    "\n",
    "comp = pd.concat(\n",
    "    {\n",
    "        'all': summ_all,\n",
    "        'filtered_iqr': summ_filtered,\n",
    "        **({'winsorized': summ_w} if summ_w is not None else {})\n",
    "    }, axis=1\n",
    ")\n",
    "comp"
   ]
  },
  {
   "cell_type": "markdown",
   "id": "c24a3651",
   "metadata": {},
   "source": [
    "### Reflection (≤ 1 page)\n",
    "- Methods and thresholds used (and why)\n",
    "- Assumptions behind choices\n",
    "- Observed impact on results\n",
    "- Risks if assumptions are wrong (e.g., discarding true events)"
   ]
  },
  {
   "cell_type": "markdown",
   "id": "47429fc6",
   "metadata": {},
   "source": [
    "Outlier detection directly affects how we interpret and model data. For outlier detection, I applied both the IQR method with k=1.5 and the Z-score method with a threshold of 3. Using both the IQR method and the Z-score method, I noticed that while they often flagged similar extreme points, their sensitivity differed. The IQR method is non-parametric and robust to skew, making it useful for distributions summarized well by quartiles. The Z-score method assumes approximate normality, which means it can misclassify valid but heavy-tailed observations as outliers. This combination gave a more complete picture of potential outliers. \n",
    "Using the IQR method to filter outliers, I compared the summary statistics (mean, median, and standard deviation) across three versions of the data: the full dataset, the filtered dataset, and the winsorized dataset. The sensitivity analysis results suggest that outliers had only a modest impact on the dataset. The mean decreased slightly when outliers were filtered or winsorized compared to the full dataset, indicating that extreme values were slightly inflating the average. In contrast, the median remained almost unchanged across all three versions, which highlights its robustness to outliers. The standard deviation showed the most noticeable change, meaning the spread of the data became narrower once extreme values were removed or capped. Overall, these results confirm that while outliers do not greatly affect the median, they can distort the mean and inflate measures of variability, and that filtering or winsorizing can help stabilize summary statistics without fundamentally altering the central tendency.\n",
    "From this, I learned that outliers can substantially skew statistical summaries and create misleading impressions of the data’s center and spread. Filtering outliers gives a cleaner picture but at the cost of discarding data.\n",
    "The main risk of outlier detection is misclassification when the underlying assumptions are not satisfied. For the IQR method, the assumption is that the distribution can be reasonably summarized by quartiles. If the data are heavily skewed or multimodal, using the standard k=1.5 may incorrectly flag valid extreme values as outliers or fail to detect unusual points. For the Z-score method, the assumption is approximate normality. If the distribution is skewed, the standard deviation may not be a reliable measure of spread, leading to too many or too few points being flagged. "
   ]
  },
  {
   "cell_type": "code",
   "execution_count": null,
   "id": "58a2940e-12da-4d62-a369-4bbc1a3114de",
   "metadata": {},
   "outputs": [],
   "source": []
  }
 ],
 "metadata": {
  "kernelspec": {
   "display_name": "Python 3 (ipykernel)",
   "language": "python",
   "name": "python3"
  },
  "language_info": {
   "codemirror_mode": {
    "name": "ipython",
    "version": 3
   },
   "file_extension": ".py",
   "mimetype": "text/x-python",
   "name": "python",
   "nbconvert_exporter": "python",
   "pygments_lexer": "ipython3",
   "version": "3.13.7"
  }
 },
 "nbformat": 4,
 "nbformat_minor": 5
}
