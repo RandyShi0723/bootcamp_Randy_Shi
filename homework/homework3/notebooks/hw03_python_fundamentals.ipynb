{
 "cells": [
  {
   "cell_type": "code",
   "execution_count": 1,
   "id": "7f6f8f24-6195-4401-b180-0ceccb7b33a0",
   "metadata": {},
   "outputs": [],
   "source": [
    "\n",
    "import os, sys\n",
    "sys.path.append(os.getcwd())\n",
    "\n",
    "import numpy as np\n",
    "import pandas as pd\n",
    "import matplotlib.pyplot as plt\n",
    "\n",
    "from src.utils import get_summary_stats, pick_category_column"
   ]
  },
  {
   "cell_type": "code",
   "execution_count": 5,
   "id": "7a2e5858-98b3-45db-a7b2-365dedacf28d",
   "metadata": {},
   "outputs": [
    {
     "data": {
      "text/plain": [
       "(0.0020639896392822266, 0.15109658241271973)"
      ]
     },
     "execution_count": 5,
     "metadata": {},
     "output_type": "execute_result"
    }
   ],
   "source": [
    "arr = np.arange(1, 1_000_001)\n",
    "\n",
    "vec_squared = arr ** 2\n",
    "\n",
    "import time\n",
    "\n",
    "t0 = time.time()\n",
    "_ = arr ** 2\n",
    "t1 = time.time()\n",
    "vec_time = t1 - t0\n",
    "\n",
    "t0 = time.time()\n",
    "loop_out = np.empty_like(arr)\n",
    "for i, v in enumerate(arr):\n",
    "    loop_out[i] = v * v\n",
    "t1 = time.time()\n",
    "loop_time = t1 - t0\n",
    "\n",
    "vec_time, loop_time\n"
   ]
  },
  {
   "cell_type": "code",
   "execution_count": 6,
   "id": "c18d083f-2874-49ba-bd8e-ed53b60e732d",
   "metadata": {},
   "outputs": [
    {
     "name": "stdout",
     "output_type": "stream",
     "text": [
      "<class 'pandas.core.frame.DataFrame'>\n",
      "RangeIndex: 10 entries, 0 to 9\n",
      "Data columns (total 3 columns):\n",
      " #   Column    Non-Null Count  Dtype \n",
      "---  ------    --------------  ----- \n",
      " 0   category  10 non-null     object\n",
      " 1   value     10 non-null     int64 \n",
      " 2   date      10 non-null     object\n",
      "dtypes: int64(1), object(2)\n",
      "memory usage: 372.0+ bytes\n"
     ]
    },
    {
     "data": {
      "text/plain": [
       "None"
      ]
     },
     "metadata": {},
     "output_type": "display_data"
    },
    {
     "data": {
      "text/html": [
       "<div>\n",
       "<style scoped>\n",
       "    .dataframe tbody tr th:only-of-type {\n",
       "        vertical-align: middle;\n",
       "    }\n",
       "\n",
       "    .dataframe tbody tr th {\n",
       "        vertical-align: top;\n",
       "    }\n",
       "\n",
       "    .dataframe thead th {\n",
       "        text-align: right;\n",
       "    }\n",
       "</style>\n",
       "<table border=\"1\" class=\"dataframe\">\n",
       "  <thead>\n",
       "    <tr style=\"text-align: right;\">\n",
       "      <th></th>\n",
       "      <th>category</th>\n",
       "      <th>value</th>\n",
       "      <th>date</th>\n",
       "    </tr>\n",
       "  </thead>\n",
       "  <tbody>\n",
       "    <tr>\n",
       "      <th>0</th>\n",
       "      <td>A</td>\n",
       "      <td>10</td>\n",
       "      <td>2025-08-01</td>\n",
       "    </tr>\n",
       "    <tr>\n",
       "      <th>1</th>\n",
       "      <td>B</td>\n",
       "      <td>15</td>\n",
       "      <td>2025-08-02</td>\n",
       "    </tr>\n",
       "    <tr>\n",
       "      <th>2</th>\n",
       "      <td>A</td>\n",
       "      <td>12</td>\n",
       "      <td>2025-08-03</td>\n",
       "    </tr>\n",
       "    <tr>\n",
       "      <th>3</th>\n",
       "      <td>B</td>\n",
       "      <td>18</td>\n",
       "      <td>2025-08-04</td>\n",
       "    </tr>\n",
       "    <tr>\n",
       "      <th>4</th>\n",
       "      <td>C</td>\n",
       "      <td>25</td>\n",
       "      <td>2025-08-05</td>\n",
       "    </tr>\n",
       "  </tbody>\n",
       "</table>\n",
       "</div>"
      ],
      "text/plain": [
       "  category  value        date\n",
       "0        A     10  2025-08-01\n",
       "1        B     15  2025-08-02\n",
       "2        A     12  2025-08-03\n",
       "3        B     18  2025-08-04\n",
       "4        C     25  2025-08-05"
      ]
     },
     "metadata": {},
     "output_type": "display_data"
    }
   ],
   "source": [
    "df = pd.read_csv(\"data/starter_data.csv\")\n",
    "\n",
    "display(df.info())\n",
    "display(df.head())"
   ]
  },
  {
   "cell_type": "code",
   "execution_count": 12,
   "id": "212304fc-adca-4d58-89dd-91ce50c37646",
   "metadata": {},
   "outputs": [
    {
     "data": {
      "text/html": [
       "<div>\n",
       "<style scoped>\n",
       "    .dataframe tbody tr th:only-of-type {\n",
       "        vertical-align: middle;\n",
       "    }\n",
       "\n",
       "    .dataframe tbody tr th {\n",
       "        vertical-align: top;\n",
       "    }\n",
       "\n",
       "    .dataframe thead th {\n",
       "        text-align: right;\n",
       "    }\n",
       "</style>\n",
       "<table border=\"1\" class=\"dataframe\">\n",
       "  <thead>\n",
       "    <tr style=\"text-align: right;\">\n",
       "      <th></th>\n",
       "      <th>count</th>\n",
       "      <th>mean</th>\n",
       "      <th>std</th>\n",
       "      <th>min</th>\n",
       "      <th>25%</th>\n",
       "      <th>50%</th>\n",
       "      <th>75%</th>\n",
       "      <th>max</th>\n",
       "    </tr>\n",
       "  </thead>\n",
       "  <tbody>\n",
       "    <tr>\n",
       "      <th>value</th>\n",
       "      <td>10.0</td>\n",
       "      <td>17.6</td>\n",
       "      <td>7.381659</td>\n",
       "      <td>10.0</td>\n",
       "      <td>12.25</td>\n",
       "      <td>14.5</td>\n",
       "      <td>23.25</td>\n",
       "      <td>30.0</td>\n",
       "    </tr>\n",
       "  </tbody>\n",
       "</table>\n",
       "</div>"
      ],
      "text/plain": [
       "       count  mean       std   min    25%   50%    75%   max\n",
       "value   10.0  17.6  7.381659  10.0  12.25  14.5  23.25  30.0"
      ]
     },
     "metadata": {},
     "output_type": "display_data"
    },
    {
     "data": {
      "text/html": [
       "<div>\n",
       "<style scoped>\n",
       "    .dataframe tbody tr th:only-of-type {\n",
       "        vertical-align: middle;\n",
       "    }\n",
       "\n",
       "    .dataframe tbody tr th {\n",
       "        vertical-align: top;\n",
       "    }\n",
       "\n",
       "    .dataframe thead tr th {\n",
       "        text-align: left;\n",
       "    }\n",
       "\n",
       "    .dataframe thead tr:last-of-type th {\n",
       "        text-align: right;\n",
       "    }\n",
       "</style>\n",
       "<table border=\"1\" class=\"dataframe\">\n",
       "  <thead>\n",
       "    <tr>\n",
       "      <th></th>\n",
       "      <th colspan=\"5\" halign=\"left\">value</th>\n",
       "    </tr>\n",
       "    <tr>\n",
       "      <th></th>\n",
       "      <th>count</th>\n",
       "      <th>mean</th>\n",
       "      <th>std</th>\n",
       "      <th>min</th>\n",
       "      <th>max</th>\n",
       "    </tr>\n",
       "    <tr>\n",
       "      <th>category</th>\n",
       "      <th></th>\n",
       "      <th></th>\n",
       "      <th></th>\n",
       "      <th></th>\n",
       "      <th></th>\n",
       "    </tr>\n",
       "  </thead>\n",
       "  <tbody>\n",
       "    <tr>\n",
       "      <th>A</th>\n",
       "      <td>4</td>\n",
       "      <td>11.500000</td>\n",
       "      <td>1.290994</td>\n",
       "      <td>10</td>\n",
       "      <td>13</td>\n",
       "    </tr>\n",
       "    <tr>\n",
       "      <th>B</th>\n",
       "      <td>3</td>\n",
       "      <td>15.666667</td>\n",
       "      <td>2.081666</td>\n",
       "      <td>14</td>\n",
       "      <td>18</td>\n",
       "    </tr>\n",
       "    <tr>\n",
       "      <th>C</th>\n",
       "      <td>3</td>\n",
       "      <td>27.666667</td>\n",
       "      <td>2.516611</td>\n",
       "      <td>25</td>\n",
       "      <td>30</td>\n",
       "    </tr>\n",
       "  </tbody>\n",
       "</table>\n",
       "</div>"
      ],
      "text/plain": [
       "         value                             \n",
       "         count       mean       std min max\n",
       "category                                   \n",
       "A            4  11.500000  1.290994  10  13\n",
       "B            3  15.666667  2.081666  14  18\n",
       "C            3  27.666667  2.516611  25  30"
      ]
     },
     "metadata": {},
     "output_type": "display_data"
    }
   ],
   "source": [
    "df_num = df.copy()\n",
    "for c in df_num.columns:\n",
    "    if df_num[c].dtype == \"object\":\n",
    "        try:\n",
    "            df_num[c] = pd.to_numeric(df_num[c])\n",
    "        except Exception:\n",
    "            pass\n",
    "\n",
    "num_only = df_num.select_dtypes(include=\"number\")\n",
    "summary_df = get_summary_stats(num_only) if not num_only.empty else pd.DataFrame()\n",
    "display(summary_df if not summary_df.empty else \"No numeric columns for describe().\")\n",
    "\n",
    "cat_col = pick_category_column(df_num)\n",
    "numeric_cols = df_num.select_dtypes(include=\"number\").columns\n",
    "\n",
    "if len(numeric_cols) == 0:\n",
    "    grouped = df_num.groupby(cat_col).size().to_frame(\"count\")\n",
    "else:\n",
    "    grouped = df_num.groupby(cat_col)[numeric_cols].agg(['count', 'mean', 'std', 'min', 'max'])\n",
    "\n",
    "display(grouped.head())"
   ]
  },
  {
   "cell_type": "code",
   "execution_count": 13,
   "id": "279a8f76-7cd5-4e75-b9a1-360298f3ad77",
   "metadata": {},
   "outputs": [
    {
     "data": {
      "text/plain": [
       "'data/processed/summary.csv'"
      ]
     },
     "execution_count": 13,
     "metadata": {},
     "output_type": "execute_result"
    }
   ],
   "source": [
    "os.makedirs(\"data/processed\", exist_ok=True)\n",
    "summary_path = \"data/processed/summary.csv\"\n",
    "summary_df.to_csv(summary_path, index=True)\n",
    "\n",
    "if cat_col in df.columns:\n",
    "    counts = df[cat_col].value_counts().sort_values(ascending=False)\n",
    "    plt.figure()\n",
    "    counts.plot(kind='bar', title=f\"Counts by {cat_col}\")\n",
    "    plt.tight_layout()\n",
    "    plt.savefig(\"data/processed/basic_plot.png\")\n",
    "    plt.close()\n",
    "else:\n",
    "    num_cols = df.select_dtypes(include='number').columns\n",
    "    if len(num_cols) > 0:\n",
    "        plt.figure()\n",
    "        df[num_cols[0]].plot(kind='hist', bins=30, title=f\"Histogram of {num_cols[0]}\")\n",
    "        plt.tight_layout()\n",
    "        plt.savefig(\"data/processed/basic_plot.png\")\n",
    "        plt.close()\n",
    "\n",
    "summary_path"
   ]
  },
  {
   "cell_type": "code",
   "execution_count": 14,
   "id": "d83ca42c-e385-4b6c-b0b7-0acf68e66d53",
   "metadata": {},
   "outputs": [
    {
     "data": {
      "text/html": [
       "<div>\n",
       "<style scoped>\n",
       "    .dataframe tbody tr th:only-of-type {\n",
       "        vertical-align: middle;\n",
       "    }\n",
       "\n",
       "    .dataframe tbody tr th {\n",
       "        vertical-align: top;\n",
       "    }\n",
       "\n",
       "    .dataframe thead th {\n",
       "        text-align: right;\n",
       "    }\n",
       "</style>\n",
       "<table border=\"1\" class=\"dataframe\">\n",
       "  <thead>\n",
       "    <tr style=\"text-align: right;\">\n",
       "      <th></th>\n",
       "      <th>count</th>\n",
       "      <th>mean</th>\n",
       "      <th>std</th>\n",
       "      <th>min</th>\n",
       "      <th>25%</th>\n",
       "      <th>50%</th>\n",
       "      <th>75%</th>\n",
       "      <th>max</th>\n",
       "    </tr>\n",
       "  </thead>\n",
       "  <tbody>\n",
       "    <tr>\n",
       "      <th>value</th>\n",
       "      <td>10.0</td>\n",
       "      <td>17.6</td>\n",
       "      <td>7.381659</td>\n",
       "      <td>10.0</td>\n",
       "      <td>12.25</td>\n",
       "      <td>14.5</td>\n",
       "      <td>23.25</td>\n",
       "      <td>30.0</td>\n",
       "    </tr>\n",
       "  </tbody>\n",
       "</table>\n",
       "</div>"
      ],
      "text/plain": [
       "       count  mean       std   min    25%   50%    75%   max\n",
       "value   10.0  17.6  7.381659  10.0  12.25  14.5  23.25  30.0"
      ]
     },
     "execution_count": 14,
     "metadata": {},
     "output_type": "execute_result"
    }
   ],
   "source": [
    "_ = get_summary_stats(df).head()\n",
    "_"
   ]
  },
  {
   "cell_type": "code",
   "execution_count": null,
   "id": "fc53c8e3-4a2d-498b-864a-9c2d216f8b3a",
   "metadata": {},
   "outputs": [],
   "source": []
  }
 ],
 "metadata": {
  "kernelspec": {
   "display_name": "Python 3 (ipykernel)",
   "language": "python",
   "name": "python3"
  },
  "language_info": {
   "codemirror_mode": {
    "name": "ipython",
    "version": 3
   },
   "file_extension": ".py",
   "mimetype": "text/x-python",
   "name": "python",
   "nbconvert_exporter": "python",
   "pygments_lexer": "ipython3",
   "version": "3.13.7"
  }
 },
 "nbformat": 4,
 "nbformat_minor": 5
}
